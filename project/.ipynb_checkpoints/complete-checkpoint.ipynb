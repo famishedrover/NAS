{
 "cells": [
  {
   "cell_type": "code",
   "execution_count": 1,
   "metadata": {},
   "outputs": [],
   "source": [
    "import torch.nn as nn\n",
    "import torch\n",
    "import numpy as np\n",
    "import matplotlib.pyplot as plt \n",
    "import random\n",
    "from torchsummary import summary\n",
    "\n",
    "random.seed('Mudit')"
   ]
  },
  {
   "cell_type": "code",
   "execution_count": 2,
   "metadata": {},
   "outputs": [],
   "source": [
    "class NASModuleConv(nn.Module) :\n",
    "    def __init__(self, input, output):\n",
    "        super(NASModuleConv, self).__init__()\n",
    "        \n",
    "        self.input = input\n",
    "        self.output = output\n",
    "        \n",
    "        c1 = nn.Conv2d(input[0],32, kernel_size=3)\n",
    "        b1 = nn.BatchNorm2d(32)\n",
    "        r1 = nn.ReLU()\n",
    "        \n",
    "        self.layers = [c1,b1,r1] \n",
    "        self.nns = nn.Sequential(*self.layers)\n",
    "        self.flag = False\n",
    "        \n",
    "        self.updateModel()\n",
    "        \n",
    "    \n",
    "    def f_forward(self,x) :\n",
    "        return self.nns(x)\n",
    "\n",
    "    def forward(self,x) :\n",
    "        out = self.f_forward(x)\n",
    "        out = out.view(-1,self.convert)\n",
    "        out = self.fc(out)\n",
    "        return out\n",
    "      \n",
    "\n",
    "    def updateModel(self) :\n",
    "        \n",
    "        self.nns = nn.Sequential(*self.layers)\n",
    "        \n",
    "        x = torch.randn((1,self.input[0],self.input[1],self.input[2]))\n",
    "        t = self.f_forward(x)\n",
    "        x = t.shape\n",
    "        x = x[1]*x[2]*x[3]\n",
    "        \n",
    "#         print 'Convert Val :',x\n",
    "        self.convert = x\n",
    "        \n",
    "        final = nn.Linear(self.convert,self.output)\n",
    "        \n",
    "        if self.flag  :\n",
    "            mi = min(self.convert,self.fc.weight.data.shape[1])\n",
    "            final.weight.data[:,:mi] = self.fc.weight.data[:,:mi]\n",
    "        \n",
    "        self.fc = final\n",
    "#         self.layers.append(final)\n",
    "        self.flag = True \n",
    "        \n",
    "\n",
    "    def widen(self) :\n",
    "        le = len(self.layers)/3 - 1\n",
    "        layer = random.randint(0,le)\n",
    "        layer *= 3 \n",
    "        \n",
    "        factor = 2\n",
    "        if random.random() > 0.5 :\n",
    "            factor = 4\n",
    "            \n",
    "        self.widen_conv(layer,factor)\n",
    "        \n",
    "        \n",
    "        \n",
    "    def widen_conv(self, layer,factor):\n",
    "        #affects channels only, no effect on kernel size.\n",
    "        le = len(self.layers)\n",
    "        \n",
    "        flag = True\n",
    "        if layer+3>=le :\n",
    "            flag = False\n",
    "        \n",
    "        current_layer = self.layers[layer]\n",
    "        bn_current = self.layers[layer+1]\n",
    "        \n",
    "        if flag :\n",
    "            next_layer = self.layers[layer+3]\n",
    "#         bn_next = self.layers[layer+4]\n",
    "        \n",
    "#         print 'Current :',current_layer.weight.data.shape, ' & Next :', next_layer.weight.data.shape\n",
    "\n",
    "        orig_channels = current_layer.out_channels\n",
    "        weights = [current_layer.weight.data]\n",
    "        if flag :\n",
    "            weights += [next_layer.weight.data]\n",
    "        bn_weights = [bn_current.weight.data]\n",
    "        \n",
    "        current_layer = nn.Conv2d(current_layer.in_channels,\n",
    "                                  current_layer.out_channels*factor,\n",
    "                                  kernel_size=current_layer.kernel_size,\n",
    "                                  stride=current_layer.stride)\n",
    "        if flag:\n",
    "            next_layer = nn.Conv2d(current_layer.out_channels,\n",
    "                               next_layer.out_channels,\n",
    "                               kernel_size=next_layer.kernel_size,\n",
    "                               stride=next_layer.stride)\n",
    "        \n",
    "        bn_current = nn.BatchNorm2d(current_layer.out_channels)\n",
    "\n",
    "#         print bn_current.weight.data[:orig_channels]\n",
    "#         print current_layer.weight.shape,next_layer.weight.shape\n",
    "    \n",
    "        current_layer.weight.data[0:orig_channels,:] = weights[0]\n",
    "        if flag:\n",
    "            next_layer.weight.data[:,0:orig_channels] = weights[1]\n",
    "        \n",
    "        bn_current.weight.data[:orig_channels] = bn_weights[0][:]\n",
    "        \n",
    "        \n",
    "        self.layers[layer] = current_layer\n",
    "        if flag : \n",
    "            self.layers[layer+3] = next_layer\n",
    "        \n",
    "        self.layers[layer+1] = bn_current\n",
    "        \n",
    "        self.updateModel() \n",
    "       \n",
    "    \n",
    "    def prepareConvBlock(self,channels_prev) :\n",
    "        kernel = 3\n",
    "        if random.random() > 0.5 :\n",
    "            kernel = 5\n",
    "            \n",
    "        #channels of closest preceeding conv is passed \n",
    "        c = nn.Conv2d(channels_prev,channels_prev,kernel_size=kernel)\n",
    "        b = nn.BatchNorm2d(channels_prev)\n",
    "        r = nn.ReLU()\n",
    "        \n",
    "        return c,b,r\n",
    "        \n",
    "        \n",
    "    def addLayer(self,position):    \n",
    "        current_layer = self.layers[position] \n",
    "        c,b,r = self.prepareConvBlock(current_layer.out_channels)\n",
    "        self.layers.insert(position+3,c)\n",
    "        self.layers.insert(position+4,b)\n",
    "        self.layers.insert(position+5,r)\n",
    "\n",
    "\n",
    "        self.updateModel()"
   ]
  },
  {
   "cell_type": "code",
   "execution_count": 3,
   "metadata": {},
   "outputs": [],
   "source": [
    "# a = [1,2,3,4,5,6,7,8,9]\n",
    "# position = 4\n",
    "# a.insert(position+1,10)\n",
    "# a.insert(position+2,20)\n",
    "# a.insert(position+3,30)\n",
    "\n",
    "# position = 9\n",
    "# a.insert(position+1,40)\n",
    "# a.insert(position+2,50)\n",
    "# a.insert(position+3,60)\n",
    "\n",
    "# print a"
   ]
  },
  {
   "cell_type": "code",
   "execution_count": 4,
   "metadata": {},
   "outputs": [],
   "source": [
    "model = NASModuleConv((1,28,28),5)"
   ]
  },
  {
   "cell_type": "code",
   "execution_count": 5,
   "metadata": {},
   "outputs": [
    {
     "data": {
      "text/plain": [
       "NASModuleConv(\n",
       "  (nns): Sequential(\n",
       "    (0): Conv2d(1, 32, kernel_size=(3, 3), stride=(1, 1))\n",
       "    (1): BatchNorm2d(32, eps=1e-05, momentum=0.1, affine=True, track_running_stats=True)\n",
       "    (2): ReLU()\n",
       "  )\n",
       "  (fc): Linear(in_features=21632, out_features=5, bias=True)\n",
       ")"
      ]
     },
     "execution_count": 5,
     "metadata": {},
     "output_type": "execute_result"
    }
   ],
   "source": [
    "model"
   ]
  },
  {
   "cell_type": "code",
   "execution_count": 6,
   "metadata": {},
   "outputs": [],
   "source": [
    "model.widen()"
   ]
  },
  {
   "cell_type": "code",
   "execution_count": 7,
   "metadata": {},
   "outputs": [
    {
     "data": {
      "text/plain": [
       "NASModuleConv(\n",
       "  (nns): Sequential(\n",
       "    (0): Conv2d(1, 128, kernel_size=(3, 3), stride=(1, 1))\n",
       "    (1): BatchNorm2d(128, eps=1e-05, momentum=0.1, affine=True, track_running_stats=True)\n",
       "    (2): ReLU()\n",
       "  )\n",
       "  (fc): Linear(in_features=86528, out_features=5, bias=True)\n",
       ")"
      ]
     },
     "execution_count": 7,
     "metadata": {},
     "output_type": "execute_result"
    }
   ],
   "source": [
    "model"
   ]
  },
  {
   "cell_type": "code",
   "execution_count": null,
   "metadata": {},
   "outputs": [],
   "source": []
  },
  {
   "cell_type": "code",
   "execution_count": null,
   "metadata": {},
   "outputs": [],
   "source": []
  },
  {
   "cell_type": "code",
   "execution_count": null,
   "metadata": {},
   "outputs": [],
   "source": []
  },
  {
   "cell_type": "code",
   "execution_count": 8,
   "metadata": {},
   "outputs": [
    {
     "name": "stdout",
     "output_type": "stream",
     "text": [
      "Model Output: torch.Size([10, 5])\n",
      "NASModuleConv(\n",
      "  (nns): Sequential(\n",
      "    (0): Conv2d(1, 128, kernel_size=(3, 3), stride=(1, 1))\n",
      "    (1): BatchNorm2d(128, eps=1e-05, momentum=0.1, affine=True, track_running_stats=True)\n",
      "    (2): ReLU()\n",
      "  )\n",
      "  (fc): Linear(in_features=86528, out_features=5, bias=True)\n",
      ")\n",
      "--------------------\n",
      "[Conv2d(1, 128, kernel_size=(3, 3), stride=(1, 1)), BatchNorm2d(128, eps=1e-05, momentum=0.1, affine=True, track_running_stats=True), ReLU()]\n",
      "--------------------\n",
      "[Conv2d(1, 128, kernel_size=(3, 3), stride=(1, 1)), BatchNorm2d(128, eps=1e-05, momentum=0.1, affine=True, track_running_stats=True), ReLU(), Conv2d(128, 128, kernel_size=(3, 3), stride=(1, 1)), BatchNorm2d(128, eps=1e-05, momentum=0.1, affine=True, track_running_stats=True), ReLU()]\n",
      "--------------------\n",
      "[Conv2d(1, 128, kernel_size=(3, 3), stride=(1, 1)), BatchNorm2d(128, eps=1e-05, momentum=0.1, affine=True, track_running_stats=True), ReLU(), Conv2d(128, 128, kernel_size=(3, 3), stride=(1, 1)), BatchNorm2d(128, eps=1e-05, momentum=0.1, affine=True, track_running_stats=True), ReLU(), Conv2d(128, 128, kernel_size=(5, 5), stride=(1, 1)), BatchNorm2d(128, eps=1e-05, momentum=0.1, affine=True, track_running_stats=True), ReLU()]\n",
      "--------------------\n",
      "NASModuleConv(\n",
      "  (nns): Sequential(\n",
      "    (0): Conv2d(1, 128, kernel_size=(3, 3), stride=(1, 1))\n",
      "    (1): BatchNorm2d(128, eps=1e-05, momentum=0.1, affine=True, track_running_stats=True)\n",
      "    (2): ReLU()\n",
      "    (3): Conv2d(128, 128, kernel_size=(3, 3), stride=(1, 1))\n",
      "    (4): BatchNorm2d(128, eps=1e-05, momentum=0.1, affine=True, track_running_stats=True)\n",
      "    (5): ReLU()\n",
      "    (6): Conv2d(128, 128, kernel_size=(5, 5), stride=(1, 1))\n",
      "    (7): BatchNorm2d(128, eps=1e-05, momentum=0.1, affine=True, track_running_stats=True)\n",
      "    (8): ReLU()\n",
      "  )\n",
      "  (fc): Linear(in_features=51200, out_features=5, bias=True)\n",
      ")\n"
     ]
    }
   ],
   "source": [
    "print 'Model Output:',model(torch.randn(10,1,28,28)).shape\n",
    "print model\n",
    "print '-'*20\n",
    "print model.layers\n",
    "print '-'*20\n",
    "model.addLayer(0)\n",
    "print model.layers\n",
    "print '-'*20\n",
    "model.addLayer(3)\n",
    "print model.layers\n",
    "print '-'*20\n",
    "print model"
   ]
  },
  {
   "cell_type": "code",
   "execution_count": 9,
   "metadata": {},
   "outputs": [],
   "source": [
    "model.widen()"
   ]
  },
  {
   "cell_type": "code",
   "execution_count": 10,
   "metadata": {},
   "outputs": [
    {
     "data": {
      "text/plain": [
       "tensor([0.9744, 0.3039, 0.0735, 0.9002, 0.4251, 0.9258, 0.8461, 0.2636, 0.1351,\n",
       "        0.2947, 0.5732, 0.2671, 0.6787, 0.0910, 0.1207, 0.8773, 0.1132, 0.3930,\n",
       "        0.5699, 0.6902, 0.7684, 0.4977, 0.2437, 0.0654, 0.2657, 0.1693, 0.6511,\n",
       "        0.0983, 0.9934, 0.3837, 0.3323, 0.0646, 0.0853, 0.9672, 0.0455, 0.4368,\n",
       "        0.8746, 0.8337, 0.6089, 0.6594, 0.4513, 0.8022, 0.7127, 0.1325, 0.0099,\n",
       "        0.3402, 0.7322, 0.1100, 0.4493, 0.5946, 0.7925, 0.1680, 0.2141, 0.8052,\n",
       "        0.4475, 0.0757, 0.4888, 0.3264, 0.0525, 0.8132, 0.8985, 0.2353, 0.2911,\n",
       "        0.6189, 0.5303, 0.0211, 0.4687, 0.3855, 0.6118, 0.5997, 0.0178, 0.6757,\n",
       "        0.1807, 0.5961, 0.1106, 0.4579, 0.5325, 0.4014, 0.7732, 0.2008, 0.8049,\n",
       "        0.3666, 0.5971, 0.1736, 0.6626, 0.8407, 0.6090, 0.7426, 0.8039, 0.0661,\n",
       "        0.9682, 0.3602, 0.4471, 0.1682, 0.9046, 0.2718, 0.8901, 0.6059, 0.4456,\n",
       "        0.2044, 0.3003, 0.6540, 0.1662, 0.9437, 0.1218, 0.0242, 0.7199, 0.3299,\n",
       "        0.6854, 0.3582, 0.7174, 0.0570, 0.1769, 0.3952, 0.6567, 0.7230, 0.4569,\n",
       "        0.5711, 0.0298, 0.9008, 0.7226, 0.2645, 0.3172, 0.4577, 0.8736, 0.5765,\n",
       "        0.6068, 0.4685])"
      ]
     },
     "execution_count": 10,
     "metadata": {},
     "output_type": "execute_result"
    }
   ],
   "source": [
    "model.layers[1].weight.data"
   ]
  },
  {
   "cell_type": "code",
   "execution_count": 11,
   "metadata": {},
   "outputs": [
    {
     "name": "stdout",
     "output_type": "stream",
     "text": [
      "NASModuleConv(\n",
      "  (nns): Sequential(\n",
      "    (0): Conv2d(1, 32, kernel_size=(3, 3), stride=(1, 1))\n",
      "    (1): BatchNorm2d(32, eps=1e-05, momentum=0.1, affine=True, track_running_stats=True)\n",
      "    (2): ReLU()\n",
      "  )\n",
      "  (fc): Linear(in_features=9248, out_features=5, bias=True)\n",
      ")\n"
     ]
    }
   ],
   "source": [
    "model = NASModuleConv((1,19,19),5)\n",
    "print model"
   ]
  },
  {
   "cell_type": "code",
   "execution_count": 12,
   "metadata": {},
   "outputs": [
    {
     "name": "stdout",
     "output_type": "stream",
     "text": [
      "NASModuleConv(\n",
      "  (nns): Sequential(\n",
      "    (0): Conv2d(1, 32, kernel_size=(3, 3), stride=(1, 1))\n",
      "    (1): BatchNorm2d(32, eps=1e-05, momentum=0.1, affine=True, track_running_stats=True)\n",
      "    (2): ReLU()\n",
      "    (3): Conv2d(32, 32, kernel_size=(5, 5), stride=(1, 1))\n",
      "    (4): BatchNorm2d(32, eps=1e-05, momentum=0.1, affine=True, track_running_stats=True)\n",
      "    (5): ReLU()\n",
      "  )\n",
      "  (fc): Linear(in_features=5408, out_features=5, bias=True)\n",
      ")\n"
     ]
    }
   ],
   "source": [
    "model.addLayer(0)\n",
    "print model"
   ]
  },
  {
   "cell_type": "code",
   "execution_count": 13,
   "metadata": {},
   "outputs": [
    {
     "name": "stdout",
     "output_type": "stream",
     "text": [
      "NASModuleConv(\n",
      "  (nns): Sequential(\n",
      "    (0): Conv2d(1, 32, kernel_size=(3, 3), stride=(1, 1))\n",
      "    (1): BatchNorm2d(32, eps=1e-05, momentum=0.1, affine=True, track_running_stats=True)\n",
      "    (2): ReLU()\n",
      "    (3): Conv2d(32, 32, kernel_size=(5, 5), stride=(1, 1))\n",
      "    (4): BatchNorm2d(32, eps=1e-05, momentum=0.1, affine=True, track_running_stats=True)\n",
      "    (5): ReLU()\n",
      "    (6): Conv2d(32, 32, kernel_size=(5, 5), stride=(1, 1))\n",
      "    (7): BatchNorm2d(32, eps=1e-05, momentum=0.1, affine=True, track_running_stats=True)\n",
      "    (8): ReLU()\n",
      "  )\n",
      "  (fc): Linear(in_features=2592, out_features=5, bias=True)\n",
      ")\n"
     ]
    }
   ],
   "source": [
    "model.addLayer(0)\n",
    "print model"
   ]
  },
  {
   "cell_type": "code",
   "execution_count": 14,
   "metadata": {},
   "outputs": [
    {
     "name": "stdout",
     "output_type": "stream",
     "text": [
      "NASModuleConv(\n",
      "  (nns): Sequential(\n",
      "    (0): Conv2d(1, 32, kernel_size=(3, 3), stride=(1, 1))\n",
      "    (1): BatchNorm2d(32, eps=1e-05, momentum=0.1, affine=True, track_running_stats=True)\n",
      "    (2): ReLU()\n",
      "    (3): Conv2d(32, 32, kernel_size=(3, 3), stride=(1, 1))\n",
      "    (4): BatchNorm2d(32, eps=1e-05, momentum=0.1, affine=True, track_running_stats=True)\n",
      "    (5): ReLU()\n",
      "    (6): Conv2d(32, 32, kernel_size=(5, 5), stride=(1, 1))\n",
      "    (7): BatchNorm2d(32, eps=1e-05, momentum=0.1, affine=True, track_running_stats=True)\n",
      "    (8): ReLU()\n",
      "    (9): Conv2d(32, 32, kernel_size=(5, 5), stride=(1, 1))\n",
      "    (10): BatchNorm2d(32, eps=1e-05, momentum=0.1, affine=True, track_running_stats=True)\n",
      "    (11): ReLU()\n",
      "  )\n",
      "  (fc): Linear(in_features=1568, out_features=5, bias=True)\n",
      ")\n"
     ]
    }
   ],
   "source": [
    "model.addLayer(0)\n",
    "print model"
   ]
  },
  {
   "cell_type": "code",
   "execution_count": 15,
   "metadata": {},
   "outputs": [
    {
     "name": "stdout",
     "output_type": "stream",
     "text": [
      "NASModuleConv(\n",
      "  (nns): Sequential(\n",
      "    (0): Conv2d(1, 32, kernel_size=(3, 3), stride=(1, 1))\n",
      "    (1): BatchNorm2d(32, eps=1e-05, momentum=0.1, affine=True, track_running_stats=True)\n",
      "    (2): ReLU()\n",
      "    (3): Conv2d(32, 32, kernel_size=(5, 5), stride=(1, 1))\n",
      "    (4): BatchNorm2d(32, eps=1e-05, momentum=0.1, affine=True, track_running_stats=True)\n",
      "    (5): ReLU()\n",
      "    (6): Conv2d(32, 32, kernel_size=(3, 3), stride=(1, 1))\n",
      "    (7): BatchNorm2d(32, eps=1e-05, momentum=0.1, affine=True, track_running_stats=True)\n",
      "    (8): ReLU()\n",
      "    (9): Conv2d(32, 32, kernel_size=(5, 5), stride=(1, 1))\n",
      "    (10): BatchNorm2d(32, eps=1e-05, momentum=0.1, affine=True, track_running_stats=True)\n",
      "    (11): ReLU()\n",
      "    (12): Conv2d(32, 32, kernel_size=(5, 5), stride=(1, 1))\n",
      "    (13): BatchNorm2d(32, eps=1e-05, momentum=0.1, affine=True, track_running_stats=True)\n",
      "    (14): ReLU()\n",
      "  )\n",
      "  (fc): Linear(in_features=288, out_features=5, bias=True)\n",
      ")\n"
     ]
    }
   ],
   "source": [
    "model.addLayer(0)\n",
    "print model"
   ]
  },
  {
   "cell_type": "code",
   "execution_count": 16,
   "metadata": {},
   "outputs": [],
   "source": [
    "model.widen()"
   ]
  },
  {
   "cell_type": "code",
   "execution_count": 17,
   "metadata": {},
   "outputs": [
    {
     "name": "stdout",
     "output_type": "stream",
     "text": [
      "NASModuleConv(\n",
      "  (nns): Sequential(\n",
      "    (0): Conv2d(1, 32, kernel_size=(3, 3), stride=(1, 1))\n",
      "    (1): BatchNorm2d(32, eps=1e-05, momentum=0.1, affine=True, track_running_stats=True)\n",
      "    (2): ReLU()\n",
      "    (3): Conv2d(32, 64, kernel_size=(5, 5), stride=(1, 1))\n",
      "    (4): BatchNorm2d(64, eps=1e-05, momentum=0.1, affine=True, track_running_stats=True)\n",
      "    (5): ReLU()\n",
      "    (6): Conv2d(64, 32, kernel_size=(3, 3), stride=(1, 1))\n",
      "    (7): BatchNorm2d(32, eps=1e-05, momentum=0.1, affine=True, track_running_stats=True)\n",
      "    (8): ReLU()\n",
      "    (9): Conv2d(32, 32, kernel_size=(5, 5), stride=(1, 1))\n",
      "    (10): BatchNorm2d(32, eps=1e-05, momentum=0.1, affine=True, track_running_stats=True)\n",
      "    (11): ReLU()\n",
      "    (12): Conv2d(32, 32, kernel_size=(5, 5), stride=(1, 1))\n",
      "    (13): BatchNorm2d(32, eps=1e-05, momentum=0.1, affine=True, track_running_stats=True)\n",
      "    (14): ReLU()\n",
      "  )\n",
      "  (fc): Linear(in_features=288, out_features=5, bias=True)\n",
      ")\n"
     ]
    }
   ],
   "source": [
    "print model"
   ]
  },
  {
   "cell_type": "markdown",
   "metadata": {},
   "source": [
    "## Skip Connections TODO :\n",
    "\n",
    "Find pairs of ConvNet blocks, where input channels for conv1 == output channels for conv2 \n",
    "\n",
    "then simply perform torch.cat((x,model(x)),1)\n",
    "\n",
    "https://medium.com/@14prakash/understanding-and-implementing-architectures-of-resnet-and-resnext-for-state-of-the-art-image-cc5d0adf648e\n",
    "\n",
    "https://stackoverflow.com/questions/51773208/pytorch-skip-connection-in-a-sequential-model"
   ]
  },
  {
   "cell_type": "code",
   "execution_count": 19,
   "metadata": {},
   "outputs": [],
   "source": [
    "# torch.cat?"
   ]
  },
  {
   "cell_type": "code",
   "execution_count": 48,
   "metadata": {},
   "outputs": [
    {
     "name": "stdout",
     "output_type": "stream",
     "text": [
      "torch.Size([10, 32, 12, 12])\n",
      "torch.Size([10, 32, 12, 12])\n"
     ]
    }
   ],
   "source": [
    "x = torch.randn((10,1,28,28))\n",
    "\n",
    "maxp = nn.MaxPool2d(kernel_size=2)\n",
    "\n",
    "one = maxp(p(x))\n",
    "print one.shape\n",
    "\n",
    "p = nn.Conv2d(1,32,kernel_size=5)\n",
    "p1 = nn.Conv2d(32,32,kernel_size=5)\n",
    "p2 = nn.Conv2d(32,32,kernel_size=5)\n",
    "p3 = nn.Conv2d(32,32,kernel_size=5)\n",
    "p4 = nn.Conv2d(32,32,kernel_size=5)\n",
    "p5 = nn.Conv2d(32,32,kernel_size=5)\n",
    "\n",
    "two = p3(p2(p1(p(x))))\n",
    "print two.shape"
   ]
  },
  {
   "cell_type": "code",
   "execution_count": null,
   "metadata": {},
   "outputs": [],
   "source": []
  },
  {
   "cell_type": "code",
   "execution_count": null,
   "metadata": {},
   "outputs": [],
   "source": []
  },
  {
   "cell_type": "code",
   "execution_count": null,
   "metadata": {},
   "outputs": [],
   "source": []
  },
  {
   "cell_type": "code",
   "execution_count": null,
   "metadata": {},
   "outputs": [],
   "source": []
  },
  {
   "cell_type": "code",
   "execution_count": null,
   "metadata": {},
   "outputs": [],
   "source": []
  },
  {
   "cell_type": "code",
   "execution_count": null,
   "metadata": {},
   "outputs": [],
   "source": []
  },
  {
   "cell_type": "code",
   "execution_count": 22,
   "metadata": {},
   "outputs": [
    {
     "data": {
      "text/plain": [
       "Conv2d(1, 32, kernel_size=(5, 5), stride=(1, 1))"
      ]
     },
     "execution_count": 22,
     "metadata": {},
     "output_type": "execute_result"
    }
   ],
   "source": [
    "p"
   ]
  },
  {
   "cell_type": "code",
   "execution_count": 25,
   "metadata": {},
   "outputs": [
    {
     "data": {
      "text/plain": [
       "torch.Size([10, 1, 28, 28])"
      ]
     },
     "execution_count": 25,
     "metadata": {},
     "output_type": "execute_result"
    }
   ],
   "source": [
    "x.shape"
   ]
  },
  {
   "cell_type": "code",
   "execution_count": 26,
   "metadata": {},
   "outputs": [
    {
     "data": {
      "text/plain": [
       "torch.Size([10, 32, 24, 24])"
      ]
     },
     "execution_count": 26,
     "metadata": {},
     "output_type": "execute_result"
    }
   ],
   "source": [
    "p(x).shape"
   ]
  },
  {
   "cell_type": "code",
   "execution_count": null,
   "metadata": {},
   "outputs": [],
   "source": []
  },
  {
   "cell_type": "code",
   "execution_count": 23,
   "metadata": {},
   "outputs": [
    {
     "ename": "RuntimeError",
     "evalue": "invalid argument 0: Sizes of tensors must match except in dimension 1. Got 28 and 24 in dimension 2 at /Users/soumith/code/builder/wheel/pytorch-src/aten/src/TH/generic/THTensorMath.cpp:3616",
     "output_type": "error",
     "traceback": [
      "\u001b[0;31m---------------------------------------------------------------------------\u001b[0m",
      "\u001b[0;31mRuntimeError\u001b[0m                              Traceback (most recent call last)",
      "\u001b[0;32m<ipython-input-23-d62248949493>\u001b[0m in \u001b[0;36m<module>\u001b[0;34m()\u001b[0m\n\u001b[0;32m----> 1\u001b[0;31m \u001b[0mtorch\u001b[0m\u001b[0;34m.\u001b[0m\u001b[0mcat\u001b[0m\u001b[0;34m(\u001b[0m\u001b[0;34m[\u001b[0m\u001b[0mx\u001b[0m\u001b[0;34m,\u001b[0m \u001b[0mp\u001b[0m\u001b[0;34m(\u001b[0m\u001b[0mx\u001b[0m\u001b[0;34m)\u001b[0m\u001b[0;34m]\u001b[0m\u001b[0;34m,\u001b[0m \u001b[0;36m1\u001b[0m\u001b[0;34m)\u001b[0m\u001b[0;34m\u001b[0m\u001b[0m\n\u001b[0m",
      "\u001b[0;31mRuntimeError\u001b[0m: invalid argument 0: Sizes of tensors must match except in dimension 1. Got 28 and 24 in dimension 2 at /Users/soumith/code/builder/wheel/pytorch-src/aten/src/TH/generic/THTensorMath.cpp:3616"
     ]
    }
   ],
   "source": [
    "torch.cat([x, p(x)], 1)"
   ]
  },
  {
   "cell_type": "code",
   "execution_count": null,
   "metadata": {},
   "outputs": [],
   "source": []
  }
 ],
 "metadata": {
  "kernelspec": {
   "display_name": "Python 2",
   "language": "python",
   "name": "python2"
  },
  "language_info": {
   "codemirror_mode": {
    "name": "ipython",
    "version": 2
   },
   "file_extension": ".py",
   "mimetype": "text/x-python",
   "name": "python",
   "nbconvert_exporter": "python",
   "pygments_lexer": "ipython2",
   "version": "2.7.14"
  }
 },
 "nbformat": 4,
 "nbformat_minor": 2
}
